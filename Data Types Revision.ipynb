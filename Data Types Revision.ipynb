{
 "cells": [
  {
   "cell_type": "markdown",
   "id": "a0e270ba",
   "metadata": {},
   "source": [
    "# Data Types\n",
    "In Python data types define the type of data that can be stored and manipulated within a program. In this notebook I will look at some of the built-in data types."
   ]
  },
  {
   "cell_type": "markdown",
   "id": "9a372d89",
   "metadata": {},
   "source": [
    "###  01. Numeric Types\n",
    "They are used to store numerical values.\n",
    "Some of them are:\n",
    "* _int_ - used to store integer values, whole numbers. eg x = 20\n",
    "* _float_ - used to store floating point numbers, decimals. eg y = 3.142\n",
    "* _complex_ - used to store complex numbers, real + imaginary numbers. eg, num = 3 + 4m"
   ]
  },
  {
   "cell_type": "code",
   "execution_count": 2,
   "id": "92cd869e",
   "metadata": {},
   "outputs": [
    {
     "name": "stdout",
     "output_type": "stream",
     "text": [
      "Integer: 25 <class 'int'>\n"
     ]
    }
   ],
   "source": [
    "#integer\n",
    "age = 25 \n",
    "\n",
    "print('Integer:', age, type(age))   #prints the integer value, and the type "
   ]
  },
  {
   "cell_type": "code",
   "execution_count": 3,
   "id": "24a26bbf",
   "metadata": {},
   "outputs": [
    {
     "name": "stdout",
     "output_type": "stream",
     "text": [
      "Float: 3.142 <class 'float'>\n"
     ]
    }
   ],
   "source": [
    "#float\n",
    "pi = 3.142\n",
    "\n",
    "print('Float:', pi, type(pi))"
   ]
  },
  {
   "cell_type": "code",
   "execution_count": 12,
   "id": "daf6c7f9",
   "metadata": {},
   "outputs": [
    {
     "name": "stdout",
     "output_type": "stream",
     "text": [
      "Complex: (1+2j) <class 'complex'>\n"
     ]
    }
   ],
   "source": [
    "#complex \n",
    "z = 1 + 2j\n",
    "\n",
    "print('Complex:', z, type(z))"
   ]
  },
  {
   "cell_type": "markdown",
   "id": "73f4b197",
   "metadata": {},
   "source": [
    "### 02. Text Types - _Strings_\n",
    "They are used to store sequences of string characters.\n",
    "Strings in Python are surrounded by either single or quotation marks, or double quotation marks. 'hello' is the same as \"hello\""
   ]
  },
  {
   "cell_type": "code",
   "execution_count": 13,
   "id": "65483757",
   "metadata": {},
   "outputs": [
    {
     "name": "stdout",
     "output_type": "stream",
     "text": [
      "String: Alice <class 'str'>\n"
     ]
    }
   ],
   "source": [
    "name = 'Alice'\n",
    "\n",
    "print('String:', name, type(name))"
   ]
  },
  {
   "cell_type": "code",
   "execution_count": 14,
   "id": "31d354af",
   "metadata": {},
   "outputs": [
    {
     "name": "stdout",
     "output_type": "stream",
     "text": [
      "It's alright\n"
     ]
    }
   ],
   "source": [
    "print(\"It's alright\")"
   ]
  },
  {
   "cell_type": "code",
   "execution_count": 17,
   "id": "fa7a0384",
   "metadata": {},
   "outputs": [
    {
     "name": "stdout",
     "output_type": "stream",
     "text": [
      "Lorem ipsum dolor sit amet,\n",
      "consectetur adipiscing elit,\n",
      "sed do eiusmod tempor incididunt\n",
      "ut labore et dolore magna aliqua.\n"
     ]
    }
   ],
   "source": [
    " # you can assign a string using multiline using three quotes. can be double quotes \"\"\"....\"\"\" or single quotes '''...'''\n",
    "a = \"\"\"Lorem ipsum dolor sit amet,\n",
    "consectetur adipiscing elit,\n",
    "sed do eiusmod tempor incididunt\n",
    "ut labore et dolore magna aliqua.\"\"\"\n",
    "print(a)   "
   ]
  },
  {
   "cell_type": "markdown",
   "id": "ed635131",
   "metadata": {},
   "source": [
    "### 3. Sequence Types - _Arrays_\n",
    "They are used to store ordered collections of items\n",
    "They include:\n",
    "* list - mutable, ordered collection. Eg; numbers = [1,2,3]\n",
    "* tuple - Immutable, ordered collection. Eg; coordinates = (10,20)\n",
    "* range - immutable sequence of numbers. Eg; r = ranges(5)"
   ]
  },
  {
   "cell_type": "code",
   "execution_count": 18,
   "id": "8cff4165",
   "metadata": {},
   "outputs": [
    {
     "name": "stdout",
     "output_type": "stream",
     "text": [
      "List: ['apple', 'banana', 'cherry'] <class 'list'>\n"
     ]
    }
   ],
   "source": [
    "# List\n",
    "fruits = [\"apple\", \"banana\", \"cherry\"]\n",
    "\n",
    "print(\"List:\", fruits, type(fruits))"
   ]
  },
  {
   "cell_type": "code",
   "execution_count": 19,
   "id": "206abaab",
   "metadata": {},
   "outputs": [
    {
     "name": "stdout",
     "output_type": "stream",
     "text": [
      "Tuple: (10, 20, 30) <class 'tuple'>\n"
     ]
    }
   ],
   "source": [
    "# Tuple\n",
    "coordinates = (10, 20, 30)\n",
    "\n",
    "print(\"Tuple:\", coordinates, type(coordinates))"
   ]
  },
  {
   "cell_type": "code",
   "execution_count": 21,
   "id": "c2d20e3a",
   "metadata": {},
   "outputs": [
    {
     "name": "stdout",
     "output_type": "stream",
     "text": [
      "Range: range(0, 2) <class 'range'>\n"
     ]
    }
   ],
   "source": [
    "# Range\n",
    "numbers = range(2)\n",
    "\n",
    "print(\"Range:\", numbers, type(numbers))"
   ]
  },
  {
   "cell_type": "markdown",
   "id": "80c8705a",
   "metadata": {},
   "source": [
    "### 4. Mapping Types \n",
    "Also known as Dictionary. They are used to store key-value pairs.\n",
    "* _dict_ - mutable collection of key-value pairs. Eg: person {\"name\": \"John\", \"age\": 25}"
   ]
  },
  {
   "cell_type": "code",
   "execution_count": 22,
   "id": "3a977039",
   "metadata": {},
   "outputs": [
    {
     "name": "stdout",
     "output_type": "stream",
     "text": [
      "Dictionary: {'name': 'Alice', 'age': 30, 'city': 'New York'} <class 'dict'>\n"
     ]
    }
   ],
   "source": [
    "# Dictionary\n",
    "person = {\"name\": \"Alice\", \"age\": 30, \"city\": \"New York\"}\n",
    "print(\"Dictionary:\", person, type(person))"
   ]
  },
  {
   "cell_type": "markdown",
   "id": "783998dc",
   "metadata": {},
   "source": [
    "### 5. Set Types\n",
    "They are used to store unordered collections of unique items. \n",
    "They are in the form of :\n",
    "* _set_ - mutable, unordered collection. Eg: mySet = {1,2,3}\n",
    "* _frozenset_ - immutable, unordered collection. Eg: frozen_set = frozenset([1,2,3])"
   ]
  },
  {
   "cell_type": "code",
   "execution_count": 23,
   "id": "81692ec7",
   "metadata": {},
   "outputs": [
    {
     "name": "stdout",
     "output_type": "stream",
     "text": [
      "Set: {1, 2, 3, 4} <class 'set'>\n"
     ]
    }
   ],
   "source": [
    "# Set\n",
    "unique_numbers = {1, 2, 3, 4}\n",
    "print(\"Set:\", unique_numbers, type(unique_numbers)) "
   ]
  },
  {
   "cell_type": "code",
   "execution_count": 24,
   "id": "2c0d1015",
   "metadata": {},
   "outputs": [
    {
     "name": "stdout",
     "output_type": "stream",
     "text": [
      "Frozenset: frozenset({1, 2, 3, 4}) <class 'frozenset'>\n"
     ]
    }
   ],
   "source": [
    "# Frozenset\n",
    "frozen_set = frozenset([1, 2, 3, 4])\n",
    "print(\"Frozenset:\", frozen_set, type(frozen_set))"
   ]
  },
  {
   "cell_type": "markdown",
   "id": "77bd0e8c",
   "metadata": {},
   "source": [
    "### 6. Boolean Type\n",
    "It represents logical values. True or False."
   ]
  },
  {
   "cell_type": "code",
   "execution_count": 25,
   "id": "6989cc4b",
   "metadata": {},
   "outputs": [
    {
     "name": "stdout",
     "output_type": "stream",
     "text": [
      "Boolean: True <class 'bool'>\n"
     ]
    }
   ],
   "source": [
    "# Boolean\n",
    "is_valid = True\n",
    "print(\"Boolean:\", is_valid, type(is_valid))"
   ]
  },
  {
   "cell_type": "markdown",
   "id": "3e055d5f",
   "metadata": {},
   "source": [
    "### 7.  Binary Types\n",
    "It is used to binary data. They are as:\n",
    "* _bytes_ - Immutable binary sequence\n",
    "* _bytearray_ - mutable binary sequence\n",
    "* _memoryview_ - view of a memory buffer"
   ]
  },
  {
   "cell_type": "code",
   "execution_count": 26,
   "id": "a474c0e5",
   "metadata": {},
   "outputs": [
    {
     "name": "stdout",
     "output_type": "stream",
     "text": [
      "Bytes: b'hello' <class 'bytes'>\n"
     ]
    }
   ],
   "source": [
    "# Bytes\n",
    "binary_data = b\"hello\"\n",
    "print(\"Bytes:\", binary_data, type(binary_data))"
   ]
  },
  {
   "cell_type": "code",
   "execution_count": 27,
   "id": "3661694f",
   "metadata": {},
   "outputs": [
    {
     "name": "stdout",
     "output_type": "stream",
     "text": [
      "Bytearray: bytearray(b'\\x00\\x00\\x00\\x00\\x00') <class 'bytearray'>\n"
     ]
    }
   ],
   "source": [
    "# Bytearray\n",
    "byte_array = bytearray(5)\n",
    "print(\"Bytearray:\", byte_array, type(byte_array))"
   ]
  },
  {
   "cell_type": "code",
   "execution_count": 28,
   "id": "b477e81b",
   "metadata": {},
   "outputs": [
    {
     "name": "stdout",
     "output_type": "stream",
     "text": [
      "Memoryview: <memory at 0x0000018DAED00D00> <class 'memoryview'>\n"
     ]
    }
   ],
   "source": [
    "# Memoryview\n",
    "memory_view = memoryview(bytes(5))\n",
    "print(\"Memoryview:\", memory_view, type(memory_view))"
   ]
  },
  {
   "cell_type": "markdown",
   "id": "dce9a7d6",
   "metadata": {},
   "source": [
    "### 8. None Type\n",
    "This data type is used to represent the absence of a value. Just like _NULL_ IN SQL"
   ]
  },
  {
   "cell_type": "code",
   "execution_count": 29,
   "id": "b710ba7a",
   "metadata": {
    "scrolled": true
   },
   "outputs": [
    {
     "name": "stdout",
     "output_type": "stream",
     "text": [
      "NoneType: None <class 'NoneType'>\n"
     ]
    }
   ],
   "source": [
    "# NoneType\n",
    "nothing = None\n",
    "print(\"NoneType:\", nothing, type(nothing))"
   ]
  },
  {
   "cell_type": "markdown",
   "id": "79026435",
   "metadata": {},
   "source": [
    "### 9. Type Conversion\n",
    "Finally, Let's delve into type conversion. Python allows us to be able to convert, or cast data types. You can do this using type-casting functions:\n",
    "* int()\n",
    "* float()\n",
    "* str()\n",
    "* list()\n",
    "* tuple()"
   ]
  },
  {
   "cell_type": "code",
   "execution_count": 30,
   "id": "c20b9e47",
   "metadata": {},
   "outputs": [
    {
     "name": "stdout",
     "output_type": "stream",
     "text": [
      "Converted to float: 10.0 <class 'float'>\n"
     ]
    }
   ],
   "source": [
    "# Converting int to float\n",
    "x = float(10)\n",
    "print(\"Converted to float:\", x, type(x))"
   ]
  },
  {
   "cell_type": "code",
   "execution_count": 31,
   "id": "d9df82cf",
   "metadata": {},
   "outputs": [
    {
     "name": "stdout",
     "output_type": "stream",
     "text": [
      "Converted to list: ['h', 'e', 'l', 'l', 'o'] <class 'list'>\n"
     ]
    }
   ],
   "source": [
    "# Converting string to list\n",
    "text = \"hello\"\n",
    "text_list = list(text)\n",
    "print(\"Converted to list:\", text_list, type(text_list))"
   ]
  },
  {
   "cell_type": "code",
   "execution_count": 32,
   "id": "7e1fdddf",
   "metadata": {},
   "outputs": [
    {
     "name": "stdout",
     "output_type": "stream",
     "text": [
      "Converted to tuple: (1, 2, 3) <class 'tuple'>\n"
     ]
    }
   ],
   "source": [
    "# Converting list to tuple\n",
    "numbers = [1, 2, 3]\n",
    "numbers_tuple = tuple(numbers)\n",
    "print(\"Converted to tuple:\", numbers_tuple, type(numbers_tuple))"
   ]
  }
 ],
 "metadata": {
  "kernelspec": {
   "display_name": "Python 3 (ipykernel)",
   "language": "python",
   "name": "python3"
  },
  "language_info": {
   "codemirror_mode": {
    "name": "ipython",
    "version": 3
   },
   "file_extension": ".py",
   "mimetype": "text/x-python",
   "name": "python",
   "nbconvert_exporter": "python",
   "pygments_lexer": "ipython3",
   "version": "3.9.12"
  }
 },
 "nbformat": 4,
 "nbformat_minor": 5
}
