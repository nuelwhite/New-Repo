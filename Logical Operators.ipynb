{
 "cells": [
  {
   "cell_type": "markdown",
   "id": "52768495",
   "metadata": {},
   "source": [
    "## Logical Operators\n",
    "In Python, Logical operators are used to combine conditional statements. They evaluate expressions and return a Boolean result: _True_ or _False_.\n",
    "The logical operators in python are:\n",
    "* AND - Returns <b>True</b> if both conditions are true\n",
    "* OR - Returns <b>True</b> if at least one of the condition is true.\n",
    "* NOT - Reverses the logical state. So the opposite."
   ]
  },
  {
   "cell_type": "markdown",
   "id": "97f19cc7",
   "metadata": {},
   "source": [
    "### 1. AND\n",
    "* Returns True if both conditions are true\n",
    "* Returns False, if either condition is False"
   ]
  },
  {
   "cell_type": "code",
   "execution_count": 1,
   "id": "b3aec814",
   "metadata": {},
   "outputs": [
    {
     "name": "stdout",
     "output_type": "stream",
     "text": [
      "True\n",
      "False\n",
      "False\n"
     ]
    }
   ],
   "source": [
    "x = 10\n",
    "y = 5\n",
    "\n",
    "# Example with 'and'\n",
    "print(x > 5 and y < 10) \n",
    "print(x > 15 and y < 10)\n",
    "print(x > 5 and y > 10) "
   ]
  },
  {
   "cell_type": "markdown",
   "id": "5d663be5",
   "metadata": {},
   "source": [
    "### OR\n",
    "* Returns True if at least one condition is true.\n",
    "* Only returns False if both conditions are False"
   ]
  },
  {
   "cell_type": "code",
   "execution_count": 2,
   "id": "2e49ab79",
   "metadata": {},
   "outputs": [
    {
     "name": "stdout",
     "output_type": "stream",
     "text": [
      "True\n",
      "False\n"
     ]
    }
   ],
   "source": [
    "x = 7\n",
    "print(x > 5 or x < 3)  # True (first condition is true)\n",
    "print(x < 5 or x < 3)  # False (both conditions are false)\n"
   ]
  },
  {
   "cell_type": "markdown",
   "id": "07448f57",
   "metadata": {},
   "source": [
    "### NOT \n",
    "* Reverses the truth value of a condition.\n",
    "* If the condition is True, </b>.NOT</b> makes it False, and vice versa."
   ]
  },
  {
   "cell_type": "code",
   "execution_count": 3,
   "id": "ae19c49e",
   "metadata": {},
   "outputs": [
    {
     "name": "stdout",
     "output_type": "stream",
     "text": [
      "False\n",
      "True\n"
     ]
    }
   ],
   "source": [
    "x = 10\n",
    "\n",
    "# Example with 'not'\n",
    "print(not x > 5)   # False (x > 5 is True, so `not` makes it False)\n",
    "print(not x > 15)  # True (x > 15 is False, so `not` makes it True)\n"
   ]
  },
  {
   "cell_type": "markdown",
   "id": "bfaea14f",
   "metadata": {},
   "source": [
    "### NOTE: \n",
    "* You can chain Logical operators into a complex conditions.\n",
    "* <b>AND</b> stops evaluating as soon as a condition is False (_short-circuits_)\n",
    "* <b>OR</b> stops evaluating as soon as a condition is True (_short-circuits_)"
   ]
  }
 ],
 "metadata": {
  "kernelspec": {
   "display_name": "Python 3 (ipykernel)",
   "language": "python",
   "name": "python3"
  },
  "language_info": {
   "codemirror_mode": {
    "name": "ipython",
    "version": 3
   },
   "file_extension": ".py",
   "mimetype": "text/x-python",
   "name": "python",
   "nbconvert_exporter": "python",
   "pygments_lexer": "ipython3",
   "version": "3.9.12"
  }
 },
 "nbformat": 4,
 "nbformat_minor": 5
}
