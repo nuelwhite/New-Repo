{
 "cells": [
  {
   "cell_type": "code",
   "execution_count": 1,
   "id": "665f93b1",
   "metadata": {},
   "outputs": [
    {
     "name": "stdout",
     "output_type": "stream",
     "text": [
      "Hello World\n"
     ]
    }
   ],
   "source": [
    "print('Hello World')"
   ]
  },
  {
   "cell_type": "code",
   "execution_count": 2,
   "id": "3fa9ca5a",
   "metadata": {},
   "outputs": [
    {
     "data": {
      "text/plain": [
       "4"
      ]
     },
     "execution_count": 2,
     "metadata": {},
     "output_type": "execute_result"
    }
   ],
   "source": [
    "2+2"
   ]
  },
  {
   "cell_type": "markdown",
   "id": "f0827619",
   "metadata": {},
   "source": [
    "# First Notebook in 4 Years\n",
    "\n",
    "This is my first notebook in 4 years lol. This notebook is a revision of my knowledge in Python. It covers all the Python fundamentals. I hope I do not take any sabbatical again, haha."
   ]
  },
  {
   "cell_type": "markdown",
   "id": "d5017992",
   "metadata": {},
   "source": [
    "# 01. Variables in Python\n",
    "### What are Variables?\n",
    "Variables are containers that allows users to store data values of certain data types. They hold the daa which can later be retrieved and manipulated.\n",
    "For example, 'x' will be a variable to store a value (3). "
   ]
  },
  {
   "cell_type": "markdown",
   "id": "4406a705",
   "metadata": {},
   "source": [
    "## 1 Declaring Variables\n",
    "In other programming languages, you need to specify the data type of the variable when declaring a variable. But Python doesn't need you to. That is what makes it a cool language. you just have to declare the name of the variable, and then assign the value."
   ]
  },
  {
   "cell_type": "code",
   "execution_count": 5,
   "id": "718e752b",
   "metadata": {},
   "outputs": [
    {
     "name": "stdout",
     "output_type": "stream",
     "text": [
      "5\n"
     ]
    }
   ],
   "source": [
    "# assigning variable - example 1\n",
    "x = 3\n",
    "print(x+2)"
   ]
  },
  {
   "cell_type": "code",
   "execution_count": 6,
   "id": "085178a1",
   "metadata": {},
   "outputs": [
    {
     "name": "stdout",
     "output_type": "stream",
     "text": [
      "Lorem Ipsum\n"
     ]
    }
   ],
   "source": [
    "# assigning variable - example 2\n",
    "y = 'Lorem Ipsum'\n",
    "print(y)"
   ]
  },
  {
   "cell_type": "code",
   "execution_count": 9,
   "id": "26725182",
   "metadata": {},
   "outputs": [
    {
     "data": {
      "text/plain": [
       "int"
      ]
     },
     "execution_count": 9,
     "metadata": {},
     "output_type": "execute_result"
    }
   ],
   "source": [
    "# we can also check the type of the variable by using the type() function\n",
    "\n",
    "type(x)"
   ]
  },
  {
   "cell_type": "code",
   "execution_count": 14,
   "id": "e69e5256",
   "metadata": {},
   "outputs": [
    {
     "name": "stdout",
     "output_type": "stream",
     "text": [
      "Ama\n",
      "4\n",
      "James\n",
      "Shovel\n",
      "Hacksaw\n",
      "Hammer\n"
     ]
    }
   ],
   "source": [
    "# we can add multiple variables. There are many ways to do this, laterally (on the same line), or line-by-line.\n",
    "\n",
    "x,y,z = 'Ama', 4, 'James'\n",
    "\n",
    "a = 'Shovel'\n",
    "b = 'Hacksaw'\n",
    "c = 'Hammer'\n",
    "\n",
    "print(x)\n",
    "print(y)\n",
    "print(z)\n",
    "\n",
    "print(a)\n",
    "print(b)\n",
    "print(c)"
   ]
  },
  {
   "cell_type": "markdown",
   "id": "fb214dea",
   "metadata": {},
   "source": [
    "## 2 Naming Conventions\n",
    "There correct naming conventions in Python is just the same accross different programming languages. \n",
    "* You can use Camel Case => carName = 'Audi', or Pascal Case => CarName = 'BMW'.\n",
    "* They cannot start with a number => 1name = 'John'\n",
    "* They can only contain alphanumeric characters and underscores\n",
    "* Variable names are case sensitive"
   ]
  },
  {
   "cell_type": "code",
   "execution_count": 17,
   "id": "6c58ea9e",
   "metadata": {},
   "outputs": [
    {
     "ename": "SyntaxError",
     "evalue": "invalid syntax (916437487.py, line 1)",
     "output_type": "error",
     "traceback": [
      "\u001b[1;36m  Input \u001b[1;32mIn [17]\u001b[1;36m\u001b[0m\n\u001b[1;33m    1name = 'John'\u001b[0m\n\u001b[1;37m     ^\u001b[0m\n\u001b[1;31mSyntaxError\u001b[0m\u001b[1;31m:\u001b[0m invalid syntax\n"
     ]
    }
   ],
   "source": [
    "1name = 'John' #error - starts with a number\n",
    "my-variable = 10 #error - contains a hyphen"
   ]
  },
  {
   "cell_type": "markdown",
   "id": "a4c8a27a",
   "metadata": {},
   "source": [
    "## 3 Dynamic Typing\n",
    "Python is dynamically types, meaning you do not have to specify the variable type. The type is inferred from the value. Which is not like other programming languages."
   ]
  },
  {
   "cell_type": "code",
   "execution_count": 18,
   "id": "5c3a9de3",
   "metadata": {},
   "outputs": [],
   "source": [
    "x = 5\n",
    "y = 'hello'"
   ]
  },
  {
   "cell_type": "markdown",
   "id": "b87f3334",
   "metadata": {},
   "source": [
    "## 4 Data Types\n",
    "Variables can store different types ofdata:\n",
    "* *Integer*: Whole numbers (int).\n",
    "* *Float*: Decimal numbers (float).\n",
    "* *String*: Text (str)\n",
    "* *Boolean*: _True_ or _False_\n",
    "* *Complex*: complex numbers (complex)"
   ]
  },
  {
   "cell_type": "code",
   "execution_count": 22,
   "id": "e37d1f00",
   "metadata": {},
   "outputs": [
    {
     "name": "stdout",
     "output_type": "stream",
     "text": [
      "6\n",
      "<class 'int'>\n",
      "<class 'int'>\n"
     ]
    }
   ],
   "source": [
    "#Interger\n",
    "age = 25 \n",
    "sum = 4+2\n",
    "print(sum)\n",
    "print(type(age))\n",
    "print(type(sum))"
   ]
  },
  {
   "cell_type": "code",
   "execution_count": 23,
   "id": "cb88076e",
   "metadata": {},
   "outputs": [
    {
     "name": "stdout",
     "output_type": "stream",
     "text": [
      "<class 'float'>\n"
     ]
    }
   ],
   "source": [
    "#Float\n",
    "price = 19.99 \n",
    "print(type(price))"
   ]
  },
  {
   "cell_type": "code",
   "execution_count": 24,
   "id": "b6936407",
   "metadata": {},
   "outputs": [
    {
     "name": "stdout",
     "output_type": "stream",
     "text": [
      "<class 'bool'>\n"
     ]
    }
   ],
   "source": [
    "#Boolean\n",
    "is_active = True \n",
    "print(type(is_active))"
   ]
  },
  {
   "cell_type": "code",
   "execution_count": 25,
   "id": "970a05a8",
   "metadata": {},
   "outputs": [
    {
     "name": "stdout",
     "output_type": "stream",
     "text": [
      "<class 'str'>\n"
     ]
    }
   ],
   "source": [
    " #string\n",
    "name = 'Alice'\n",
    "print(type(name))"
   ]
  },
  {
   "cell_type": "code",
   "execution_count": 26,
   "id": "05538e0b",
   "metadata": {},
   "outputs": [
    {
     "name": "stdout",
     "output_type": "stream",
     "text": [
      "<class 'complex'>\n"
     ]
    }
   ],
   "source": [
    " #complex\n",
    "z = 3 + 4j\n",
    "print(type(z))"
   ]
  },
  {
   "cell_type": "markdown",
   "id": "ee84eb43",
   "metadata": {},
   "source": [
    "## NOTE:\n",
    "It is fair to note that although Python is easy, you cannot do some uncoventional things like adding an integer to a string using the '+' operator, or any other arithmetic operator. But you can concatenate them."
   ]
  },
  {
   "cell_type": "code",
   "execution_count": null,
   "id": "28e625bf",
   "metadata": {},
   "outputs": [],
   "source": []
  }
 ],
 "metadata": {
  "kernelspec": {
   "display_name": "Python 3 (ipykernel)",
   "language": "python",
   "name": "python3"
  },
  "language_info": {
   "codemirror_mode": {
    "name": "ipython",
    "version": 3
   },
   "file_extension": ".py",
   "mimetype": "text/x-python",
   "name": "python",
   "nbconvert_exporter": "python",
   "pygments_lexer": "ipython3",
   "version": "3.9.12"
  }
 },
 "nbformat": 4,
 "nbformat_minor": 5
}
