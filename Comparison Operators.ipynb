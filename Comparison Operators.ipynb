{
 "cells": [
  {
   "cell_type": "markdown",
   "id": "59b41b2d",
   "metadata": {},
   "source": [
    "## Comparison Operators\n",
    "In Python, comparison operators are used to compare two or more values. The result of a comparison is always a Boolean value: _True_ or _False_"
   ]
  },
  {
   "cell_type": "markdown",
   "id": "e4674047",
   "metadata": {},
   "source": [
    "### 1. Equal to (==)\n",
    "Checks if two values are equal. \n",
    "\n",
    "In Python, to check for comparisons, you need to enter double equal to signs '=='. Entering one, means assigning a variable."
   ]
  },
  {
   "cell_type": "code",
   "execution_count": 1,
   "id": "a1869f81",
   "metadata": {},
   "outputs": [
    {
     "name": "stdout",
     "output_type": "stream",
     "text": [
      "False\n",
      "True\n"
     ]
    }
   ],
   "source": [
    "x = 5\n",
    "y = 10\n",
    "print(x == y)\n",
    "print(x == 5)"
   ]
  },
  {
   "cell_type": "markdown",
   "id": "d7522050",
   "metadata": {},
   "source": [
    "### 2. Not Equal to (!=)\n",
    "Checks if two values are not equal."
   ]
  },
  {
   "cell_type": "code",
   "execution_count": 3,
   "id": "05bb7cfc",
   "metadata": {},
   "outputs": [
    {
     "name": "stdout",
     "output_type": "stream",
     "text": [
      "True\n",
      "False\n"
     ]
    }
   ],
   "source": [
    "x = 5\n",
    "y = 10\n",
    "print(x != y)  # \n",
    "print(x != 5)"
   ]
  },
  {
   "cell_type": "markdown",
   "id": "f019a927",
   "metadata": {},
   "source": [
    "### 3. Greater than (>)\n",
    "Checks if the left value is greater than the right value\n"
   ]
  },
  {
   "cell_type": "code",
   "execution_count": 4,
   "id": "9c7f4522",
   "metadata": {},
   "outputs": [
    {
     "name": "stdout",
     "output_type": "stream",
     "text": [
      "False\n",
      "False\n"
     ]
    }
   ],
   "source": [
    "x = 5\n",
    "y = 10\n",
    "print(x > y)  # False\n",
    "print(x > 5)"
   ]
  },
  {
   "cell_type": "markdown",
   "id": "a78f973c",
   "metadata": {},
   "source": [
    "### 4. Less than (<)\n",
    "Checks if the left value is less than the right value."
   ]
  },
  {
   "cell_type": "code",
   "execution_count": 5,
   "id": "362a6838",
   "metadata": {},
   "outputs": [
    {
     "name": "stdout",
     "output_type": "stream",
     "text": [
      "True\n",
      "False\n"
     ]
    }
   ],
   "source": [
    "x = 5\n",
    "y = 10\n",
    "print(x < y)  # False\n",
    "print(x < 5)"
   ]
  },
  {
   "cell_type": "markdown",
   "id": "d053923e",
   "metadata": {},
   "source": [
    "### Greater than or Equal to (>=)\n",
    "Checks if the left value is greater than or equal to the right value"
   ]
  },
  {
   "cell_type": "code",
   "execution_count": 6,
   "id": "18c6cc6a",
   "metadata": {},
   "outputs": [
    {
     "name": "stdout",
     "output_type": "stream",
     "text": [
      "False\n",
      "True\n"
     ]
    }
   ],
   "source": [
    "x = 5\n",
    "y = 10\n",
    "print(x >= y)  # False\n",
    "print(x >= 5)"
   ]
  },
  {
   "cell_type": "markdown",
   "id": "50a150c2",
   "metadata": {},
   "source": [
    "### Less than or Equal to (<=)\n",
    "Checks if the left value is greater than or equal to the right value."
   ]
  },
  {
   "cell_type": "code",
   "execution_count": 7,
   "id": "05df47de",
   "metadata": {},
   "outputs": [
    {
     "name": "stdout",
     "output_type": "stream",
     "text": [
      "True\n",
      "True\n"
     ]
    }
   ],
   "source": [
    "x = 5\n",
    "y = 10\n",
    "print(x <= y)  # False\n",
    "print(x <= 5)"
   ]
  },
  {
   "cell_type": "markdown",
   "id": "9d5ac877",
   "metadata": {},
   "source": [
    "### NOTES:\n",
    "* Python allows chaining of comparisons for better readability.\n",
    "\n",
    "    x = 5\n",
    "    \n",
    "    print(1 < x < 10)\n",
    "\n",
    "\n",
    "* Python generally does not allow comparison of incompatible types (e.g. _int_ and _str_)\n",
    "    \n",
    "    print(5 == \"5\")\n",
    "    \n",
    "    print(5 > \"5\")"
   ]
  }
 ],
 "metadata": {
  "kernelspec": {
   "display_name": "Python 3 (ipykernel)",
   "language": "python",
   "name": "python3"
  },
  "language_info": {
   "codemirror_mode": {
    "name": "ipython",
    "version": 3
   },
   "file_extension": ".py",
   "mimetype": "text/x-python",
   "name": "python",
   "nbconvert_exporter": "python",
   "pygments_lexer": "ipython3",
   "version": "3.9.12"
  }
 },
 "nbformat": 4,
 "nbformat_minor": 5
}
