{
 "cells": [
  {
   "cell_type": "markdown",
   "id": "746bee9f",
   "metadata": {},
   "source": [
    "## Functions\n",
    "I Python, functions are resuable blocks of code designed to perform specific taks. Theu help make programs modular, readable, and easier to debug.\n",
    "\n",
    "The Syntax for defining Python functions is given as:<br>\n",
    "**def** *function_name*:<br>\n",
    "        *indent* # code block<br>\n",
    "        *indent* return value #optional\n",
    "\n",
    "* **def**: Keyword to define a function\n",
    "* **functionname**: Name of the function\n",
    "* **parameters**: Inputs to the function (*optional*)\n",
    "* **return**: used to send a result back to the caller (*optional*)\n",
    "***\n",
    "\n"
   ]
  },
  {
   "cell_type": "code",
   "execution_count": 1,
   "id": "3f6b6833",
   "metadata": {},
   "outputs": [],
   "source": [
    "# Example: Creating a function\n",
    "def greet(name):\n",
    "    return f'Hello, {name}!'"
   ]
  },
  {
   "cell_type": "code",
   "execution_count": 2,
   "id": "9131fed1",
   "metadata": {},
   "outputs": [
    {
     "name": "stdout",
     "output_type": "stream",
     "text": [
      "Hello, Alice!\n"
     ]
    }
   ],
   "source": [
    "# Call the function\n",
    "print(greet(\"Alice\"))"
   ]
  },
  {
   "cell_type": "markdown",
   "id": "b8976006",
   "metadata": {},
   "source": [
    "###  1. Function Without Parameters\n",
    "You can create a function without Parameters"
   ]
  },
  {
   "cell_type": "code",
   "execution_count": 3,
   "id": "2e681573",
   "metadata": {},
   "outputs": [
    {
     "name": "stdout",
     "output_type": "stream",
     "text": [
      "Hello, World!\n"
     ]
    }
   ],
   "source": [
    "def say_hello():\n",
    "    print(\"Hello, World!\")\n",
    "    \n",
    "say_hello()"
   ]
  },
  {
   "cell_type": "markdown",
   "id": "bc679a57",
   "metadata": {},
   "source": [
    "### 2. Function With Parameters\n",
    "You can create functions with parameters, also known as arguments."
   ]
  },
  {
   "cell_type": "code",
   "execution_count": 4,
   "id": "4a14fb29",
   "metadata": {},
   "outputs": [
    {
     "name": "stdout",
     "output_type": "stream",
     "text": [
      "8\n"
     ]
    }
   ],
   "source": [
    "def add_numbers(a,b):\n",
    "    return a + b\n",
    "\n",
    "result = add_numbers(5,3)\n",
    "print(result)"
   ]
  },
  {
   "cell_type": "markdown",
   "id": "da85d9bf",
   "metadata": {},
   "source": [
    "### 3. Function With Default Parameters\n",
    "You can define default values for arguments."
   ]
  },
  {
   "cell_type": "code",
   "execution_count": 6,
   "id": "1b48c278",
   "metadata": {},
   "outputs": [
    {
     "name": "stdout",
     "output_type": "stream",
     "text": [
      "Hello, Guest!\n",
      "Hello, Alice!\n"
     ]
    }
   ],
   "source": [
    "def greet(name=\"Guest\"):\n",
    "    print(f\"Hello, {name}!\")\n",
    "    \n",
    "\n",
    "greet()\n",
    "greet(\"Alice\")"
   ]
  },
  {
   "cell_type": "markdown",
   "id": "e79fd92d",
   "metadata": {},
   "source": [
    "### 4. Functions with Atbitrary Arguments (***args**).\n",
    "You can use ***args** to accept any number of positional arguments."
   ]
  },
  {
   "cell_type": "code",
   "execution_count": 7,
   "id": "b39e8b67",
   "metadata": {},
   "outputs": [
    {
     "name": "stdout",
     "output_type": "stream",
     "text": [
      "15\n"
     ]
    }
   ],
   "source": [
    "def add_all(*numbers):\n",
    "    return sum(numbers)\n",
    "\n",
    "\n",
    "print(add_all(1,2,3,4,5))"
   ]
  },
  {
   "cell_type": "markdown",
   "id": "9933863e",
   "metadata": {},
   "source": [
    "### 5. Functions with Arbitrary Keyword Arguments (_**kwargs_)\n",
    "You can use _**kwargs_ to accept any number of keyword arguments."
   ]
  },
  {
   "cell_type": "code",
   "execution_count": 11,
   "id": "94ab5abc",
   "metadata": {},
   "outputs": [],
   "source": [
    "def print_details(**details):\n",
    "    for key, value in details.items():\n",
    "        print(f'{key}:{value}')\n",
    "        \n"
   ]
  },
  {
   "cell_type": "code",
   "execution_count": 13,
   "id": "70fc5053",
   "metadata": {},
   "outputs": [
    {
     "name": "stdout",
     "output_type": "stream",
     "text": [
      "name:Alice\n",
      "age:25\n",
      "city:New York\n"
     ]
    }
   ],
   "source": [
    "print_details(name='Alice', age=25, city='New York')"
   ]
  },
  {
   "cell_type": "markdown",
   "id": "37c038a0",
   "metadata": {},
   "source": [
    "### 6. Return Statement\n",
    "Functions can return a value to the caller using the return statement."
   ]
  },
  {
   "cell_type": "code",
   "execution_count": 14,
   "id": "156b58d2",
   "metadata": {},
   "outputs": [
    {
     "name": "stdout",
     "output_type": "stream",
     "text": [
      "16\n"
     ]
    }
   ],
   "source": [
    "def square(num):\n",
    "    return num ** 2\n",
    "\n",
    "result = square(4)\n",
    "print(result)"
   ]
  },
  {
   "cell_type": "markdown",
   "id": "dd0ee72c",
   "metadata": {},
   "source": [
    "## Scope of Variables\n",
    "There are two scopes of variables in Python. Local, and Global scope. <br>\n",
    "* **Local Scope**: Variables declared inside a function are accessible only within that function.\n",
    "* **Global Scope**: Variables declared outside any function are accessible globally."
   ]
  },
  {
   "cell_type": "code",
   "execution_count": 15,
   "id": "5402e2df",
   "metadata": {},
   "outputs": [
    {
     "name": "stdout",
     "output_type": "stream",
     "text": [
      "20\n",
      "10\n"
     ]
    }
   ],
   "source": [
    "x = 10   # Global Variable\n",
    "\n",
    "def multiply_by_two():\n",
    "    y = x * 2     # Local Variable\n",
    "    return y\n",
    "\n",
    "print(multiply_by_two())\n",
    "print(x)"
   ]
  },
  {
   "cell_type": "markdown",
   "id": "3668cb04",
   "metadata": {},
   "source": [
    "## Lambda Functions (_lambda_)\n",
    "*lambda* functions are one-liner functions without a name. <br>\n",
    "The Syntax is given as: <br>\n",
    "**lambda** arguments: expression"
   ]
  },
  {
   "cell_type": "code",
   "execution_count": 18,
   "id": "8478636b",
   "metadata": {},
   "outputs": [
    {
     "name": "stdout",
     "output_type": "stream",
     "text": [
      "7\n"
     ]
    }
   ],
   "source": [
    "add = lambda a, b: a + b\n",
    "print(square(5, 2))"
   ]
  },
  {
   "cell_type": "code",
   "execution_count": 20,
   "id": "aea7f22b",
   "metadata": {},
   "outputs": [
    {
     "name": "stdout",
     "output_type": "stream",
     "text": [
      "25\n"
     ]
    }
   ],
   "source": [
    "square = lambda x: x ** 2\n",
    "print(square(5))"
   ]
  },
  {
   "cell_type": "markdown",
   "id": "63c5a0ca",
   "metadata": {},
   "source": [
    "## High Order Functions \n",
    "These are functions that accept other functions as arguments"
   ]
  },
  {
   "cell_type": "code",
   "execution_count": 21,
   "id": "00b6fd3e",
   "metadata": {},
   "outputs": [
    {
     "name": "stdout",
     "output_type": "stream",
     "text": [
      "9\n",
      "8\n"
     ]
    }
   ],
   "source": [
    "def apply_operation(x, operation):\n",
    "    return operation(x)\n",
    "\n",
    "print(apply_operation(3, lambda x: x ** 2)) \n",
    "print(apply_operation(3, lambda x: x + 5)) \n"
   ]
  },
  {
   "cell_type": "markdown",
   "id": "f88925cf",
   "metadata": {},
   "source": [
    "## Recursive Functions \n",
    "A recursive function is a function that calls itself."
   ]
  },
  {
   "cell_type": "code",
   "execution_count": 23,
   "id": "e0e2db26",
   "metadata": {},
   "outputs": [
    {
     "name": "stdout",
     "output_type": "stream",
     "text": [
      "120\n"
     ]
    }
   ],
   "source": [
    "def factorial(n):\n",
    "    if n == 0:\n",
    "        return 1\n",
    "    return n * factorial(n - 1)\n",
    "\n",
    "print(factorial(5))"
   ]
  },
  {
   "cell_type": "code",
   "execution_count": null,
   "id": "5777f8a3",
   "metadata": {},
   "outputs": [],
   "source": []
  }
 ],
 "metadata": {
  "kernelspec": {
   "display_name": "Python 3 (ipykernel)",
   "language": "python",
   "name": "python3"
  },
  "language_info": {
   "codemirror_mode": {
    "name": "ipython",
    "version": 3
   },
   "file_extension": ".py",
   "mimetype": "text/x-python",
   "name": "python",
   "nbconvert_exporter": "python",
   "pygments_lexer": "ipython3",
   "version": "3.9.12"
  }
 },
 "nbformat": 4,
 "nbformat_minor": 5
}
