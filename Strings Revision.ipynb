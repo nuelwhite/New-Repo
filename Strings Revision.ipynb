{
 "cells": [
  {
   "cell_type": "markdown",
   "id": "aad44828",
   "metadata": {},
   "source": [
    "# Python Strings \n",
    "This notebook contains Strings in Python tutorial. \n",
    "Strings in python are surrounded by either single or double quotation marks. _'hello'_ is the same as _\"hello\"_\n",
    "You can display a string literal with the _print()_ function:"
   ]
  },
  {
   "cell_type": "code",
   "execution_count": 1,
   "id": "c833ebff",
   "metadata": {},
   "outputs": [
    {
     "name": "stdout",
     "output_type": "stream",
     "text": [
      "hello\n",
      "Hello\n"
     ]
    }
   ],
   "source": [
    "print('hello')\n",
    "print(\"Hello\")"
   ]
  },
  {
   "cell_type": "markdown",
   "id": "520c5772",
   "metadata": {},
   "source": [
    "### Quotes Inside Quotes\n",
    "You can use quotes inside a string, as long as they don't match the quotes surrounding the string"
   ]
  },
  {
   "cell_type": "code",
   "execution_count": 2,
   "id": "6ef036a4",
   "metadata": {},
   "outputs": [
    {
     "name": "stdout",
     "output_type": "stream",
     "text": [
      "It's alright\n",
      "He is called 'Johnny'\n",
      "He is called \"Johnny\"\n"
     ]
    }
   ],
   "source": [
    "print(\"It's alright\")\n",
    "print(\"He is called 'Johnny'\")\n",
    "print('He is called \"Johnny\"')"
   ]
  },
  {
   "cell_type": "code",
   "execution_count": 3,
   "id": "35dfd342",
   "metadata": {},
   "outputs": [
    {
     "ename": "SyntaxError",
     "evalue": "invalid syntax (3598746304.py, line 1)",
     "output_type": "error",
     "traceback": [
      "\u001b[1;36m  Input \u001b[1;32mIn [3]\u001b[1;36m\u001b[0m\n\u001b[1;33m    print('It's alright')    # produces an error\u001b[0m\n\u001b[1;37m              ^\u001b[0m\n\u001b[1;31mSyntaxError\u001b[0m\u001b[1;31m:\u001b[0m invalid syntax\n"
     ]
    }
   ],
   "source": [
    "print('It's alright')    # produces an error\n",
    "print('He is called 'Johnny'')\n",
    "print(\"He is called \"Johnny\"\")"
   ]
  },
  {
   "cell_type": "markdown",
   "id": "14fe3253",
   "metadata": {},
   "source": [
    "### Assign String to a Value\n",
    "Assigning a string to a variable is done with the variable name followed by an equal sign and the string:"
   ]
  },
  {
   "cell_type": "code",
   "execution_count": 4,
   "id": "27d19815",
   "metadata": {},
   "outputs": [
    {
     "name": "stdout",
     "output_type": "stream",
     "text": [
      "Hello\n"
     ]
    }
   ],
   "source": [
    "a = 'Hello'\n",
    "print(a)"
   ]
  },
  {
   "cell_type": "markdown",
   "id": "d8b754a9",
   "metadata": {},
   "source": [
    "### Multiline Strings\n",
    "You can assign a multiline string to a variable by using three quotes. The quotes have to be the same, either single or double quotes:"
   ]
  },
  {
   "cell_type": "code",
   "execution_count": 5,
   "id": "0d351a92",
   "metadata": {},
   "outputs": [
    {
     "name": "stdout",
     "output_type": "stream",
     "text": [
      "Lorem ipsum dolor sit amet,\n",
      "consectetur adipiscing elit,\n",
      "sed do eiusmod tempor incididunt\n",
      "ut labore et dolore magna aliqua.\n"
     ]
    }
   ],
   "source": [
    "a = \"\"\"Lorem ipsum dolor sit amet,\n",
    "consectetur adipiscing elit,\n",
    "sed do eiusmod tempor incididunt\n",
    "ut labore et dolore magna aliqua.\"\"\"\n",
    "print(a)"
   ]
  },
  {
   "cell_type": "code",
   "execution_count": 6,
   "id": "a7a2aff3",
   "metadata": {},
   "outputs": [
    {
     "name": "stdout",
     "output_type": "stream",
     "text": [
      "Lorem ipsum dolor sit amet,\n",
      "consectetur adipiscing elit,\n",
      "sed do eiusmod tempor incididunt\n",
      "ut labore et dolore magna aliqua.\n"
     ]
    }
   ],
   "source": [
    "a = '''Lorem ipsum dolor sit amet,\n",
    "consectetur adipiscing elit,\n",
    "sed do eiusmod tempor incididunt\n",
    "ut labore et dolore magna aliqua.'''\n",
    "print(a)"
   ]
  },
  {
   "cell_type": "markdown",
   "id": "c5e0048a",
   "metadata": {},
   "source": [
    "### Strings are Arrays\n",
    "Like many other popular programming languages, strings in python are arrays of bytes representing unicode characters. \n",
    "\n",
    "However,python does not have a character data type, a single character is simply a string with a alength of 1. \n",
    "\n",
    "Square brackets can be used to access elements of the string."
   ]
  },
  {
   "cell_type": "code",
   "execution_count": 9,
   "id": "10d3bd88",
   "metadata": {},
   "outputs": [
    {
     "name": "stdout",
     "output_type": "stream",
     "text": [
      "e\n"
     ]
    }
   ],
   "source": [
    "# Get the character at position 1 in the string \"Hello World\"\n",
    "a = \"Hello World\"\n",
    "print(a[1])"
   ]
  },
  {
   "cell_type": "markdown",
   "id": "6ce018e8",
   "metadata": {},
   "source": [
    "### Looping through a String\n",
    "Since strings are arrays, we can loop through the characters in a string, with a for loop."
   ]
  },
  {
   "cell_type": "code",
   "execution_count": 10,
   "id": "395b81de",
   "metadata": {},
   "outputs": [
    {
     "name": "stdout",
     "output_type": "stream",
     "text": [
      "b\n",
      "a\n",
      "n\n",
      "a\n",
      "n\n",
      "a\n"
     ]
    }
   ],
   "source": [
    "# Loop through the leters in the word \"banana\":\n",
    "for x in 'banana':\n",
    "    print(x)"
   ]
  },
  {
   "cell_type": "markdown",
   "id": "3c14a707",
   "metadata": {},
   "source": [
    "### String Length\n",
    "You can manipulae strings and get the string lengths. You can use the len() function to get the length. "
   ]
  },
  {
   "cell_type": "code",
   "execution_count": 11,
   "id": "b6c901d5",
   "metadata": {},
   "outputs": [
    {
     "name": "stdout",
     "output_type": "stream",
     "text": [
      "13\n"
     ]
    }
   ],
   "source": [
    "a = \"Hello, World!\"\n",
    "print(len(a))"
   ]
  },
  {
   "cell_type": "markdown",
   "id": "620882e8",
   "metadata": {},
   "source": [
    "### Check String \n",
    "To check if a certain phrase or character is present in a string, we can use the keyword _in_.\n",
    "\n",
    "It returns a boolean value. _True_ or _False_."
   ]
  },
  {
   "cell_type": "code",
   "execution_count": 12,
   "id": "04d93fb5",
   "metadata": {},
   "outputs": [
    {
     "name": "stdout",
     "output_type": "stream",
     "text": [
      "True\n"
     ]
    }
   ],
   "source": [
    "#check if \"free\" is present in the following text\n",
    "txt = \"The best things in life are free!\"\n",
    "print(\"free\" in txt)"
   ]
  },
  {
   "cell_type": "code",
   "execution_count": 13,
   "id": "33e19fd9",
   "metadata": {},
   "outputs": [
    {
     "name": "stdout",
     "output_type": "stream",
     "text": [
      "Yes, 'free' is present.\n"
     ]
    }
   ],
   "source": [
    "# we can use it in an _if_ statement:\n",
    "txt = \"The best things in life are free!\"\n",
    "if \"free\" in txt:\n",
    "  print(\"Yes, 'free' is present.\")"
   ]
  },
  {
   "cell_type": "markdown",
   "id": "5473e77e",
   "metadata": {},
   "source": [
    "### Check if NOT\n",
    "Used to check if a certain phrase is NOT present in a string, we can use the key _NOT IN_"
   ]
  },
  {
   "cell_type": "code",
   "execution_count": 14,
   "id": "efc0aa90",
   "metadata": {},
   "outputs": [
    {
     "name": "stdout",
     "output_type": "stream",
     "text": [
      "True\n"
     ]
    }
   ],
   "source": [
    "# Check if \"expensive\" is NOT present in the following text\n",
    "txt = \"The best things in life are free!\"\n",
    "print(\"expensive\" not in txt)"
   ]
  },
  {
   "cell_type": "code",
   "execution_count": 15,
   "id": "6beeefd8",
   "metadata": {},
   "outputs": [
    {
     "name": "stdout",
     "output_type": "stream",
     "text": [
      "No, 'expensive' is NOT present.\n"
     ]
    }
   ],
   "source": [
    "txt = \"The best things in life are free!\"\n",
    "if \"expensive\" not in txt:\n",
    "  print(\"No, 'expensive' is NOT present.\")"
   ]
  },
  {
   "cell_type": "markdown",
   "id": "a4d3cf46",
   "metadata": {},
   "source": [
    "## 2. Slicing Python Strings\n",
    "You can return a range of characters by using the slice syntax.\n",
    "\n",
    "Specify the start index and the end index, seperated by a colon, to return a part of the string."
   ]
  },
  {
   "cell_type": "code",
   "execution_count": 16,
   "id": "8a658acb",
   "metadata": {},
   "outputs": [
    {
     "name": "stdout",
     "output_type": "stream",
     "text": [
      "llo\n"
     ]
    }
   ],
   "source": [
    "#get the characters from psoition 2 to position 5\n",
    "b = \"Hello, World!\"\n",
    "print(b[2:5]) # note: when slicing the end position is not included"
   ]
  },
  {
   "cell_type": "markdown",
   "id": "def7ea77",
   "metadata": {},
   "source": [
    "### Slice from the Start\n",
    "By leaving out the start index, the range will start at the first character"
   ]
  },
  {
   "cell_type": "code",
   "execution_count": 17,
   "id": "bd4d66bd",
   "metadata": {},
   "outputs": [
    {
     "name": "stdout",
     "output_type": "stream",
     "text": [
      "Hello\n"
     ]
    }
   ],
   "source": [
    "# get the characters from the start to psoition 5\n",
    "b = \"Hello, World!\"\n",
    "print(b[:5])"
   ]
  },
  {
   "cell_type": "markdown",
   "id": "aeb62f90",
   "metadata": {},
   "source": [
    "### Slice To the End\n",
    "By leaving out the end index, the range will fo to the end"
   ]
  },
  {
   "cell_type": "code",
   "execution_count": 19,
   "id": "132115c4",
   "metadata": {},
   "outputs": [
    {
     "name": "stdout",
     "output_type": "stream",
     "text": [
      "llo, World!\n"
     ]
    }
   ],
   "source": [
    "# get the characters from psotition 2, all the way to the end\n",
    "b = \"Hello, World!\"\n",
    "print(b[2:])"
   ]
  },
  {
   "cell_type": "markdown",
   "id": "57f0b108",
   "metadata": {},
   "source": [
    "### Negative Indexing\n",
    "You can use negative indexes to start the slice from the end of the string"
   ]
  },
  {
   "cell_type": "code",
   "execution_count": 20,
   "id": "03dd5a23",
   "metadata": {},
   "outputs": [
    {
     "name": "stdout",
     "output_type": "stream",
     "text": [
      "orl\n"
     ]
    }
   ],
   "source": [
    "# get the characters from 'o' in 'World!', to, but not included 'd' in 'World!'\n",
    "b = \"Hello, World!\"\n",
    "print(b[-5:-2])"
   ]
  },
  {
   "cell_type": "markdown",
   "id": "9193fde6",
   "metadata": {},
   "source": [
    "## 3. Modifying Strings\n",
    "Python has a set of built-in methods that you can use in strings."
   ]
  },
  {
   "cell_type": "markdown",
   "id": "46487f4b",
   "metadata": {},
   "source": [
    "### Upper Case\n",
    "The _upper()_ method returns the string in upper case\n"
   ]
  },
  {
   "cell_type": "code",
   "execution_count": 21,
   "id": "1b5116db",
   "metadata": {},
   "outputs": [
    {
     "name": "stdout",
     "output_type": "stream",
     "text": [
      "HELLO, WORLD!\n"
     ]
    }
   ],
   "source": [
    "a = \"Hello, World!\"\n",
    "print(a.upper())"
   ]
  },
  {
   "cell_type": "markdown",
   "id": "289546ab",
   "metadata": {},
   "source": [
    "### Lower Case\n",
    "The _lower()_ method returns the string in lower case"
   ]
  },
  {
   "cell_type": "code",
   "execution_count": 22,
   "id": "ee059956",
   "metadata": {},
   "outputs": [
    {
     "name": "stdout",
     "output_type": "stream",
     "text": [
      "hello, world!\n"
     ]
    }
   ],
   "source": [
    "a = \"Hello, World!\"\n",
    "print(a.lower())"
   ]
  },
  {
   "cell_type": "markdown",
   "id": "ec28c9d0",
   "metadata": {},
   "source": [
    "### Remove Whitespace\n",
    "Whitespace is the space before and/or after the actual text, and very often you want to remove this space.\n",
    "\n",
    "The _strip()_ method removes any whitespace from the begining or the end"
   ]
  },
  {
   "cell_type": "code",
   "execution_count": 44,
   "id": "7884e335",
   "metadata": {},
   "outputs": [
    {
     "name": "stdout",
     "output_type": "stream",
     "text": [
      "Hello, World!\n",
      "The length of the text before the method: 15 \n",
      "The length after the strip() method: 13\n"
     ]
    }
   ],
   "source": [
    "a = \" Hello, World! \"\n",
    "print(a.strip())\n",
    "print('The length of the text before the method:', len(a), '\\nThe length after the strip() method:', len(a.strip()))"
   ]
  },
  {
   "cell_type": "markdown",
   "id": "7f50d647",
   "metadata": {},
   "source": [
    "### Replace String\n",
    "The _replace()_ method replaces a string with another string"
   ]
  },
  {
   "cell_type": "code",
   "execution_count": 45,
   "id": "6f6fba70",
   "metadata": {},
   "outputs": [
    {
     "name": "stdout",
     "output_type": "stream",
     "text": [
      "Jello, World!\n"
     ]
    }
   ],
   "source": [
    "# replace 'H' with 'J' in the word 'Hello'\n",
    "a = \"Hello, World!\"\n",
    "print(a.replace(\"H\", \"J\"))"
   ]
  },
  {
   "cell_type": "markdown",
   "id": "01b3750c",
   "metadata": {},
   "source": [
    "### Split String\n",
    "The _split()_ method returns a list where the text between the specified seperator becomes the list items.\n",
    "\n",
    "It splits the string into substrings if it finds instances of the seperator."
   ]
  },
  {
   "cell_type": "code",
   "execution_count": 47,
   "id": "3276652d",
   "metadata": {},
   "outputs": [
    {
     "name": "stdout",
     "output_type": "stream",
     "text": [
      "['Hello', ' World!']\n"
     ]
    }
   ],
   "source": [
    "a = \"Hello, World!\"\n",
    "print(a.split(\",\"))"
   ]
  },
  {
   "cell_type": "markdown",
   "id": "14e61caa",
   "metadata": {},
   "source": [
    "### String Concatenation\n",
    "Strings allow us to be able to concatenate words.\n",
    "To concatenate, or combine, two strings you can use the + operator."
   ]
  },
  {
   "cell_type": "code",
   "execution_count": 48,
   "id": "fc05c9ff",
   "metadata": {},
   "outputs": [
    {
     "name": "stdout",
     "output_type": "stream",
     "text": [
      "HelloWorld\n"
     ]
    }
   ],
   "source": [
    "# Merge variable _a_ with variable _b_ into variable _c_\n",
    "a = 'Hello'\n",
    "b = 'World'\n",
    "c = a + b\n",
    "print(c)"
   ]
  },
  {
   "cell_type": "code",
   "execution_count": 49,
   "id": "98e1bde0",
   "metadata": {},
   "outputs": [
    {
     "name": "stdout",
     "output_type": "stream",
     "text": [
      "Hello World\n"
     ]
    }
   ],
   "source": [
    "# concatenating strings does not automatically add a space betwween the strings, you need to add it yourself\n",
    "a = 'Hello'\n",
    "b = 'World'\n",
    "c = a + \" \" + b\n",
    "print(c)"
   ]
  },
  {
   "cell_type": "markdown",
   "id": "2a671223",
   "metadata": {},
   "source": [
    "### Formatting Strings\n",
    "Because we cannot combine strings and numbers using concatenation. We can using the _format()_ method or _f-strings_\n",
    "\n",
    "### F-Strings \n",
    "It was introduced in Python version 3.6, and now is the most preferred way of formatting strings.\n",
    "\n",
    "To specify a string as an f-string, simply put an _f_ in front of the string literal, and add curly {} brackets as placeholders for variables and other operators"
   ]
  },
  {
   "cell_type": "code",
   "execution_count": 50,
   "id": "5bfb6005",
   "metadata": {},
   "outputs": [
    {
     "name": "stdout",
     "output_type": "stream",
     "text": [
      "My name is John, I am 36\n"
     ]
    }
   ],
   "source": [
    "# Create an f-string\n",
    "age = 36\n",
    "txt = f\"My name is John, I am {age}\"\n",
    "print(txt)"
   ]
  },
  {
   "cell_type": "markdown",
   "id": "8fd2d5b0",
   "metadata": {},
   "source": [
    "### Placeholders and Modifiers \n",
    "A placeholder can contain variables, operations, functions, and modifiers to format the value."
   ]
  },
  {
   "cell_type": "code",
   "execution_count": 51,
   "id": "88a31129",
   "metadata": {},
   "outputs": [
    {
     "name": "stdout",
     "output_type": "stream",
     "text": [
      "The price is 59 dollars\n"
     ]
    }
   ],
   "source": [
    "# Add a placeholder for the _price_ variable\n",
    "price = 59\n",
    "txt = f\"The price is {price} dollars\"\n",
    "print(txt)"
   ]
  },
  {
   "cell_type": "markdown",
   "id": "a7db631f",
   "metadata": {},
   "source": [
    " A placeholder can include a modifier to format the value.\n",
    " \n",
    " A modifier is included by adding a colon _:_ followed by a legal formatting type _.2f_ which means fixed point number 2 decimals"
   ]
  },
  {
   "cell_type": "code",
   "execution_count": 52,
   "id": "ca0fb36a",
   "metadata": {},
   "outputs": [
    {
     "name": "stdout",
     "output_type": "stream",
     "text": [
      "The price is 59.00 dollars\n"
     ]
    }
   ],
   "source": [
    "# Display the price with 2 decimals\n",
    "price = 59\n",
    "txt = f\"The price is {price:.2f} dollars\"\n",
    "print(txt)"
   ]
  },
  {
   "cell_type": "markdown",
   "id": "8cd40fa5",
   "metadata": {},
   "source": [
    "A placeholder can contain Python code like math operations"
   ]
  },
  {
   "cell_type": "code",
   "execution_count": 53,
   "id": "14f1b9e9",
   "metadata": {
    "scrolled": true
   },
   "outputs": [
    {
     "name": "stdout",
     "output_type": "stream",
     "text": [
      "The price is 1180 dollars\n"
     ]
    }
   ],
   "source": [
    "# Perform a math operation in the placeholder and return the result\n",
    "txt = f\"The price is {20 * 59} dollars\"\n",
    "print(txt)"
   ]
  },
  {
   "cell_type": "code",
   "execution_count": null,
   "id": "ea59e768",
   "metadata": {},
   "outputs": [],
   "source": []
  },
  {
   "cell_type": "code",
   "execution_count": null,
   "id": "7bee0971",
   "metadata": {},
   "outputs": [],
   "source": []
  },
  {
   "cell_type": "code",
   "execution_count": null,
   "id": "9142a58e",
   "metadata": {},
   "outputs": [],
   "source": []
  },
  {
   "cell_type": "code",
   "execution_count": null,
   "id": "66f6bbcc",
   "metadata": {},
   "outputs": [],
   "source": []
  },
  {
   "cell_type": "code",
   "execution_count": null,
   "id": "f7d60507",
   "metadata": {},
   "outputs": [],
   "source": []
  },
  {
   "cell_type": "code",
   "execution_count": null,
   "id": "928722b5",
   "metadata": {},
   "outputs": [],
   "source": []
  },
  {
   "cell_type": "code",
   "execution_count": null,
   "id": "1ec9261e",
   "metadata": {},
   "outputs": [],
   "source": []
  }
 ],
 "metadata": {
  "kernelspec": {
   "display_name": "Python 3 (ipykernel)",
   "language": "python",
   "name": "python3"
  },
  "language_info": {
   "codemirror_mode": {
    "name": "ipython",
    "version": 3
   },
   "file_extension": ".py",
   "mimetype": "text/x-python",
   "name": "python",
   "nbconvert_exporter": "python",
   "pygments_lexer": "ipython3",
   "version": "3.9.12"
  }
 },
 "nbformat": 4,
 "nbformat_minor": 5
}
