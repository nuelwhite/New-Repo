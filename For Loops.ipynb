{
 "cells": [
  {
   "cell_type": "markdown",
   "id": "a357a5d6",
   "metadata": {},
   "source": [
    "## For Loops\n",
    "**For Loops** are used to iterate over a sequence (like a list, tuple, dictionary, string, or, range) and excute a block of code for each item in the sequence. <br>\n",
    "The Syntax is given as: <br>\n",
    "**for** variable **in** sequence:\n",
    "    # *indent* Code to execute for each item\n",
    "*** \n"
   ]
  },
  {
   "cell_type": "markdown",
   "id": "0da0cfc1",
   "metadata": {},
   "source": [
    "### 1. Iterating over a List"
   ]
  },
  {
   "cell_type": "code",
   "execution_count": 1,
   "id": "17871039",
   "metadata": {},
   "outputs": [
    {
     "name": "stdout",
     "output_type": "stream",
     "text": [
      "apple\n",
      "banana\n",
      "cherry\n"
     ]
    }
   ],
   "source": [
    "fruits = [\"apple\", \"banana\", \"cherry\"]\n",
    "\n",
    "for fruit in fruits:\n",
    "    print(fruit)"
   ]
  },
  {
   "cell_type": "markdown",
   "id": "d148a8a3",
   "metadata": {},
   "source": [
    "### 3. Iterating over a String\n"
   ]
  },
  {
   "cell_type": "code",
   "execution_count": 2,
   "id": "86fe97fb",
   "metadata": {},
   "outputs": [
    {
     "name": "stdout",
     "output_type": "stream",
     "text": [
      "P\n",
      "y\n",
      "t\n",
      "h\n",
      "o\n",
      "n\n"
     ]
    }
   ],
   "source": [
    "word = \"Python\"\n",
    "\n",
    "for char in word:\n",
    "    print(char)"
   ]
  },
  {
   "cell_type": "markdown",
   "id": "c8f43711",
   "metadata": {},
   "source": [
    "### 4. Using range()\n",
    "The range() function generates a sequence of numbers:\n",
    "* **range(stop)**: From *0* to *stop*\n",
    "* **range(start, stop)**: From *start* to *stop*\n",
    "* **range(start, stop, step)**: From *start* to *stop* in steps of *step*"
   ]
  },
  {
   "cell_type": "code",
   "execution_count": 4,
   "id": "c3a9f7cd",
   "metadata": {},
   "outputs": [
    {
     "name": "stdout",
     "output_type": "stream",
     "text": [
      "0\n",
      "1\n",
      "2\n",
      "3\n",
      "4\n"
     ]
    }
   ],
   "source": [
    "# 0 to 4\n",
    "for i in range(5):\n",
    "    print(i)\n"
   ]
  },
  {
   "cell_type": "code",
   "execution_count": 5,
   "id": "97671ad6",
   "metadata": {},
   "outputs": [
    {
     "name": "stdout",
     "output_type": "stream",
     "text": [
      "2\n",
      "3\n",
      "4\n",
      "5\n",
      "6\n"
     ]
    }
   ],
   "source": [
    "# 2 to 6\n",
    "for i in range(2, 7):\n",
    "    print(i)\n",
    "    "
   ]
  },
  {
   "cell_type": "code",
   "execution_count": 6,
   "id": "b03d5097",
   "metadata": {},
   "outputs": [
    {
     "name": "stdout",
     "output_type": "stream",
     "text": [
      "10\n",
      "8\n",
      "6\n",
      "4\n",
      "2\n"
     ]
    }
   ],
   "source": [
    "# 10 to 2 (step -2)\n",
    "for i in range(10, 1, -2):\n",
    "    print(i)"
   ]
  },
  {
   "cell_type": "markdown",
   "id": "f5e14c9a",
   "metadata": {},
   "source": [
    "### 4. Iterating over a Dictionary\n"
   ]
  },
  {
   "cell_type": "code",
   "execution_count": 7,
   "id": "1b30771c",
   "metadata": {},
   "outputs": [],
   "source": [
    "person = {\"name\": \"Alice\", \"age\": 25, \"city\": \"New York\"}"
   ]
  },
  {
   "cell_type": "code",
   "execution_count": 10,
   "id": "86c74473",
   "metadata": {},
   "outputs": [
    {
     "name": "stdout",
     "output_type": "stream",
     "text": [
      "name\n",
      "age\n",
      "city\n"
     ]
    }
   ],
   "source": [
    "# Iterating over keys\n",
    "for key in person:\n",
    "    print(key)"
   ]
  },
  {
   "cell_type": "code",
   "execution_count": 11,
   "id": "fd3a9c67",
   "metadata": {},
   "outputs": [
    {
     "name": "stdout",
     "output_type": "stream",
     "text": [
      "name: Alice\n",
      "age: 25\n",
      "city: New York\n"
     ]
    }
   ],
   "source": [
    "# Iterating over keys and values\n",
    "for key, value in person.items():\n",
    "    print(f\"{key}: {value}\")"
   ]
  },
  {
   "cell_type": "markdown",
   "id": "750457d7",
   "metadata": {},
   "source": [
    "### 5. Nested for Loops\n",
    "A for loop inside another loop for iterating over multiple dimensions"
   ]
  },
  {
   "cell_type": "code",
   "execution_count": 15,
   "id": "f9f043bf",
   "metadata": {},
   "outputs": [
    {
     "name": "stdout",
     "output_type": "stream",
     "text": [
      "1 2 3 \n",
      "4 5 6 \n",
      "7 8 9 \n"
     ]
    }
   ],
   "source": [
    "matrix = [\n",
    "    [1, 2, 3],\n",
    "    [4, 5, 6],\n",
    "    [7, 8, 9]\n",
    "]\n",
    "\n",
    "for row in matrix:\n",
    "    for element in row:\n",
    "        print(element, end=\" \")   # print each element in the row on the same line\n",
    "    print()  # move to the next line after printing all elements in the current row"
   ]
  },
  {
   "cell_type": "markdown",
   "id": "41fca8ff",
   "metadata": {},
   "source": [
    "### 6. Using *else* with *for*\n",
    "The else block is executed after the *for* loop finishes, unless the loop is exited with a *break*."
   ]
  },
  {
   "cell_type": "code",
   "execution_count": 16,
   "id": "17eed43d",
   "metadata": {},
   "outputs": [
    {
     "name": "stdout",
     "output_type": "stream",
     "text": [
      "0\n",
      "1\n",
      "2\n",
      "3\n",
      "4\n",
      "Loop completed!\n"
     ]
    }
   ],
   "source": [
    "for i in range(5):\n",
    "    print(i)\n",
    "else:\n",
    "    print(\"Loop completed!\")\n"
   ]
  },
  {
   "cell_type": "code",
   "execution_count": 17,
   "id": "2f02c3ba",
   "metadata": {},
   "outputs": [
    {
     "name": "stdout",
     "output_type": "stream",
     "text": [
      "0\n",
      "1\n",
      "2\n"
     ]
    }
   ],
   "source": [
    "# With a break\n",
    "for i in range(5):\n",
    "    if i == 3:\n",
    "        break\n",
    "    print(i)\n",
    "else:\n",
    "    print(\"Loop completed!\")"
   ]
  },
  {
   "cell_type": "markdown",
   "id": "e3d9e2d5",
   "metadata": {},
   "source": [
    "### 7. Using *break* and *continue*\n",
    "* **break**: Exits the loop immediately\n",
    "* **continue**: Skips the current iteration and moves to the next"
   ]
  },
  {
   "cell_type": "code",
   "execution_count": 18,
   "id": "b0f692db",
   "metadata": {},
   "outputs": [
    {
     "name": "stdout",
     "output_type": "stream",
     "text": [
      "0\n",
      "1\n",
      "2\n"
     ]
    }
   ],
   "source": [
    "# Example with break\n",
    "for i in range(5):\n",
    "    if i == 3:\n",
    "        break\n",
    "    print(i)\n"
   ]
  },
  {
   "cell_type": "code",
   "execution_count": 19,
   "id": "d1cbc895",
   "metadata": {},
   "outputs": [
    {
     "name": "stdout",
     "output_type": "stream",
     "text": [
      "0\n",
      "1\n",
      "2\n",
      "4\n"
     ]
    }
   ],
   "source": [
    "# Example with continue\n",
    "for i in range(5):\n",
    "    if i == 3:\n",
    "        continue\n",
    "    print(i)\n"
   ]
  },
  {
   "cell_type": "code",
   "execution_count": null,
   "id": "38bb333b",
   "metadata": {},
   "outputs": [],
   "source": []
  }
 ],
 "metadata": {
  "kernelspec": {
   "display_name": "Python 3 (ipykernel)",
   "language": "python",
   "name": "python3"
  },
  "language_info": {
   "codemirror_mode": {
    "name": "ipython",
    "version": 3
   },
   "file_extension": ".py",
   "mimetype": "text/x-python",
   "name": "python",
   "nbconvert_exporter": "python",
   "pygments_lexer": "ipython3",
   "version": "3.9.12"
  }
 },
 "nbformat": 4,
 "nbformat_minor": 5
}
